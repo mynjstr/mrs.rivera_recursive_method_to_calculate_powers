{
 "cells": [
  {
   "cell_type": "markdown",
   "id": "c7887c75-4a7a-48cb-be02-053d8dace186",
   "metadata": {},
   "source": [
    "# Lab Exercise 1"
   ]
  },
  {
   "cell_type": "markdown",
   "id": "08d7f9a6-2f3e-4d78-96d1-a1e11a22e25f",
   "metadata": {},
   "source": [
    "### This program will calculate the power based on the user's input using recursive method."
   ]
  },
  {
   "cell_type": "code",
   "execution_count": 15,
   "id": "1582026e-16b1-480f-92fa-1db1d73f637d",
   "metadata": {
    "scrolled": true
   },
   "outputs": [
    {
     "name": "stdin",
     "output_type": "stream",
     "text": [
      "Input the base:  2\n",
      "Input the exponent:  7\n"
     ]
    },
    {
     "name": "stdout",
     "output_type": "stream",
     "text": [
      "The power value of the base 2.0 with an exponent of 7 is 128.00 \n"
     ]
    }
   ],
   "source": [
    "def power_calculator(base, exponent):\n",
    "    if exponent == 0:\n",
    "        return 1\n",
    "    elif exponent % 2 != 0:\n",
    "        return base *  power_calculator(base, exponent - 1)\n",
    "    else:\n",
    "        half_power =  power_calculator(base, exponent / 2)\n",
    "        return half_power * half_power\n",
    "\n",
    "while True:\n",
    "    try:\n",
    "        base = float(input(\"Input the base: \"))\n",
    "        break\n",
    "    except ValueError:\n",
    "        print(\"Base must be a number, Please Enter a number\")\n",
    "    \n",
    "while True:\n",
    "    try:\n",
    "        exponent = int(input(\"Input the exponent: \"))\n",
    "        break\n",
    "    except ValueError:\n",
    "        print(\"Exponent must be an integer number, Please Enter an integer number\")\n",
    "\n",
    "show_result = power_calculator(base, exponent)\n",
    "print(f\"The power value of the base {base} with an exponent of {exponent} is {show_result:.2f} \")"
   ]
  },
  {
   "cell_type": "code",
   "execution_count": null,
   "id": "ce4d5b51-8d3f-4b92-a4db-6983b4326c88",
   "metadata": {},
   "outputs": [],
   "source": []
  }
 ],
 "metadata": {
  "kernelspec": {
   "display_name": "Python 3 (ipykernel)",
   "language": "python",
   "name": "python3"
  },
  "language_info": {
   "codemirror_mode": {
    "name": "ipython",
    "version": 3
   },
   "file_extension": ".py",
   "mimetype": "text/x-python",
   "name": "python",
   "nbconvert_exporter": "python",
   "pygments_lexer": "ipython3",
   "version": "3.12.1"
  }
 },
 "nbformat": 4,
 "nbformat_minor": 5
}
